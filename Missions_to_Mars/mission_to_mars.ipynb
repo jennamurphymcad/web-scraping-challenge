{
 "cells": [
  {
   "cell_type": "code",
   "execution_count": 181,
   "metadata": {},
   "outputs": [],
   "source": [
    "import pandas as pd\n",
    "import requests\n",
    "import pymongo\n",
    "from splinter import Browser\n",
    "from bs4 import BeautifulSoup\n",
    "from webdriver_manager.chrome import ChromeDriverManager"
   ]
  },
  {
   "cell_type": "code",
   "execution_count": 182,
   "metadata": {},
   "outputs": [],
   "source": [
    "conn = 'mongodb://localhost:27017'\n",
    "client = pymongo.MongoClient(conn)\n",
    "\n",
    "# Define the 'MarsDB' database in Mongo\n",
    "db = client.MarsDB"
   ]
  },
  {
   "cell_type": "code",
   "execution_count": 183,
   "metadata": {},
   "outputs": [
    {
     "data": {
      "text/plain": [
       "['ClassDB',\n",
       " 'admin',\n",
       " 'config',\n",
       " 'fruits_db',\n",
       " 'local',\n",
       " 'mars_app',\n",
       " 'phone_app',\n",
       " 'state_n_city_db',\n",
       " 'team_db',\n",
       " 'weather_app']"
      ]
     },
     "execution_count": 183,
     "metadata": {},
     "output_type": "execute_result"
    }
   ],
   "source": [
    "client.list_database_names()"
   ]
  },
  {
   "cell_type": "code",
   "execution_count": 184,
   "metadata": {},
   "outputs": [
    {
     "data": {
      "text/plain": [
       "[]"
      ]
     },
     "execution_count": 184,
     "metadata": {},
     "output_type": "execute_result"
    }
   ],
   "source": [
    "db.list_collection_names()"
   ]
  },
  {
   "cell_type": "code",
   "execution_count": 185,
   "metadata": {},
   "outputs": [],
   "source": [
    "url = 'https://redplanetscience.com/'"
   ]
  },
  {
   "cell_type": "code",
   "execution_count": 186,
   "metadata": {},
   "outputs": [],
   "source": [
    "response = requests.get(url)"
   ]
  },
  {
   "cell_type": "code",
   "execution_count": 187,
   "metadata": {},
   "outputs": [],
   "source": [
    "# soup = BeautifulSoup(response.text, 'html.parser')\n",
    "soup = BeautifulSoup(response.text, 'lxml')"
   ]
  },
  {
   "cell_type": "code",
   "execution_count": 188,
   "metadata": {},
   "outputs": [
    {
     "name": "stdout",
     "output_type": "stream",
     "text": [
      "<!DOCTYPE html>\n",
      "<html>\n",
      " <head>\n",
      "  <meta charset=\"utf-8\"/>\n",
      "  <meta content=\"width=device-width, initial-scale=1\" name=\"viewport\"/>\n",
      "  <link crossorigin=\"anonymous\" href=\"https://cdn.jsdelivr.net/npm/bootstrap@5.0.0-beta1/dist/css/bootstrap.min.css\" integrity=\"sha384-giJF6kkoqNQ00vy+HMDP7azOuL0xtbfIcaT9wjKHr8RbDVddVHyTfAAsrekwKmP1\" rel=\"stylesheet\"/>\n",
      "  <link href=\"css/font.css\" rel=\"stylesheet\" type=\"text/css\"/>\n",
      "  <link href=\"css/app.css\" rel=\"stylesheet\" type=\"text/css\"/>\n",
      "  <link crossorigin=\"anonymous\" href=\"https://pro.fontawesome.com/releases/v5.10.0/css/all.css\" integrity=\"sha384-AYmEC3Yw5cVb3ZcuHtOA93w35dYTsvhLPVnYs9eStHfGJvOvKxVfELGroGkvsg+p\" rel=\"stylesheet\"/>\n",
      "  <title>\n",
      "   News - Mars Exploration Program\n",
      "  </title>\n",
      " </head>\n",
      " <body>\n",
      "  <div class=\"col-md-12\">\n",
      "   <div class=\"row\">\n",
      "    <nav class=\"navbar navbar-expand-lg navbar-light fixed-top\">\n",
      "     <div class=\"container-fluid\">\n",
      "      <a class=\"navbar-brand\" href=\"#\">\n",
      "       <img src=\"image/nasa.png\" width=\"80\"/>\n",
      "       <span class=\"logo\">\n",
      "        MARS Planet Science\n",
      "       </span>\n",
      "       <span class=\"logo1\">\n",
      "        Exploration Program\n",
      "       </span>\n",
      "      </a>\n",
      "      <button aria-controls=\"navbarNav\" aria-expanded=\"false\" aria-label=\"Toggle navigation\" class=\"navbar-toggler\" data-bs-target=\"#navbarNav\" data-bs-toggle=\"collapse\" type=\"button\">\n",
      "       <span class=\"navbar-toggler-icon\">\n",
      "       </span>\n",
      "      </button>\n",
      "      <div class=\"collapse navbar-collapse justify-content-end\" id=\"navbarNav\">\n",
      "       <ul class=\"navbar-nav\">\n",
      "        <li class=\"nav-item\">\n",
      "         <a aria-current=\"page\" class=\"nav-link active\" href=\"#\">\n",
      "          The Red Planet\n",
      "         </a>\n",
      "        </li>\n",
      "        <li class=\"nav-item\">\n",
      "         <a class=\"nav-link\" href=\"#\">\n",
      "          The Program\n",
      "         </a>\n",
      "        </li>\n",
      "        <li class=\"nav-item\">\n",
      "         <a class=\"nav-link\" href=\"#\">\n",
      "          News &amp; Events\n",
      "         </a>\n",
      "        </li>\n",
      "        <li class=\"nav-item\">\n",
      "         <a class=\"nav-link\" href=\"#\">\n",
      "          Multimedia\n",
      "         </a>\n",
      "        </li>\n",
      "        <li class=\"nav-item\">\n",
      "         <a class=\"nav-link\" href=\"#\">\n",
      "          Missions\n",
      "         </a>\n",
      "        </li>\n",
      "        <li class=\"nav-item\">\n",
      "         <a class=\"nav-link\" href=\"#\">\n",
      "          More\n",
      "         </a>\n",
      "        </li>\n",
      "        <li class=\"nav-item nav_search\">\n",
      "         <a class=\"nav-link\" href=\"#\">\n",
      "         </a>\n",
      "        </li>\n",
      "       </ul>\n",
      "      </div>\n",
      "     </div>\n",
      "    </nav>\n",
      "    <section class=\"search\">\n",
      "     <div class=\"container\">\n",
      "      <h1>\n",
      "       News\n",
      "      </h1>\n",
      "      <div class=\"col-md-12 filter\">\n",
      "       <div class=\"row\">\n",
      "        <div class=\"col-md-3 search_binder\">\n",
      "         <input class=\"search_field\" name=\"search\" type=\"text\"/>\n",
      "         <input class=\"search_submit\" name=\"search\" type=\"text\"/>\n",
      "        </div>\n",
      "        <div class=\"col-md-3\">\n",
      "         <select aria-label=\"Default select example\" class=\"form-select\" id=\"year\">\n",
      "          <option selected=\"\">\n",
      "           Latest\n",
      "          </option>\n",
      "         </select>\n",
      "        </div>\n",
      "        <div class=\"col-md-3\">\n",
      "         <select aria-label=\"Default select example\" class=\"form-select\" id=\"cat\">\n",
      "          <option selected=\"\">\n",
      "           All Categories\n",
      "          </option>\n",
      "         </select>\n",
      "        </div>\n",
      "        <div class=\"col-md-3\">\n",
      "        </div>\n",
      "       </div>\n",
      "      </div>\n",
      "     </div>\n",
      "    </section>\n",
      "    <section class=\"image_and_description_container\">\n",
      "     <div class=\"container\" id=\"news\">\n",
      "     </div>\n",
      "     <hr class=\"container\" style=\"margin: 25px auto;width: 83%;\"/>\n",
      "     <button class=\"btn disable\" id=\"more\" onclick=\"populateContent()\">\n",
      "      More\n",
      "     </button>\n",
      "    </section>\n",
      "    <section class=\"last_news\">\n",
      "     <div class=\"container\">\n",
      "      <div class=\"row\">\n",
      "       <div class=\"col-12\">\n",
      "        <h2>\n",
      "         You Might Also Like\n",
      "        </h2>\n",
      "       </div>\n",
      "       <!--  <a class=\" prev\" href=\"#carouselExampleIndicators2\" role=\"button\" data-slide=\"prev\">\r\n",
      "                  <i class=\"fas fa-angle-left\"></i>\r\n",
      "                  </a>\r\n",
      "                  <a class=\" next\" href=\"#carouselExampleIndicators2\" role=\"button\" data-slide=\"next\">\r\n",
      "                  <i class=\"fas fa-angle-right\"></i>\r\n",
      "                  </a> -->\n",
      "       <div class=\"col-12\">\n",
      "        <div class=\"carousel slide\" data-ride=\"carousel\" id=\"carouselExampleIndicators2\">\n",
      "         <div class=\"carousel-inner\">\n",
      "          <div class=\"carousel-item active\">\n",
      "           <div class=\"row\">\n",
      "            <div class=\"col-md-4 mb-3\">\n",
      "             <div class=\"card\">\n",
      "              <img alt=\"100%x280\" class=\"img-fluid\" src=\"https://mars.nasa.gov/system/news_items/main_images/8716_PIA23499-16.jpg\"/>\n",
      "              <div class=\"card-body\">\n",
      "               <p class=\"card-text\">\n",
      "                NASA to Broadcast Mars 2020 Perseverance Launch, Prelaunch Activities\n",
      "               </p>\n",
      "              </div>\n",
      "             </div>\n",
      "            </div>\n",
      "            <div class=\"col-md-4 mb-3\">\n",
      "             <div class=\"card\">\n",
      "              <img alt=\"100%x280\" class=\"img-fluid\" src=\"https://mars.nasa.gov/system/news_items/main_images/8716_PIA23499-16.jpg\"/>\n",
      "              <div class=\"card-body\">\n",
      "               <p class=\"card-text\">\n",
      "                The Launch Is Approaching for NASA's Next Mars Rover, Perseverance\n",
      "               </p>\n",
      "              </div>\n",
      "             </div>\n",
      "            </div>\n",
      "            <div class=\"col-md-4 mb-3\">\n",
      "             <div class=\"card\">\n",
      "              <img alt=\"100%x280\" class=\"img-fluid\" src=\"https://mars.nasa.gov/system/news_items/main_images/8692_PIA23920-web.jpg\"/>\n",
      "              <div class=\"card-body\">\n",
      "               <p class=\"card-text\">\n",
      "                NASA to Hold Mars 2020 Perseverance Rover Launch Briefing\n",
      "               </p>\n",
      "              </div>\n",
      "             </div>\n",
      "            </div>\n",
      "           </div>\n",
      "          </div>\n",
      "          <div class=\"carousel-item\">\n",
      "           <div class=\"row\">\n",
      "            <div class=\"col-md-4 mb-3\">\n",
      "             <div class=\"card\">\n",
      "              <img alt=\"100%x280\" class=\"img-fluid\" src=\"https://images.unsplash.com/photo-1532771098148-525cefe10c23?ixlib=rb-0.3.5&amp;q=80&amp;fm=jpg&amp;crop=entropy&amp;cs=tinysrgb&amp;w=1080&amp;fit=max&amp;ixid=eyJhcHBfaWQiOjMyMDc0fQ&amp;s=3f317c1f7a16116dec454fbc267dd8e4\"/>\n",
      "              <div class=\"card-body\">\n",
      "               <p class=\"card-text\">\n",
      "                With supporting text below as a natural lead-in to additional content.\n",
      "               </p>\n",
      "              </div>\n",
      "             </div>\n",
      "            </div>\n",
      "            <div class=\"col-md-4 mb-3\">\n",
      "             <div class=\"card\">\n",
      "              <img alt=\"100%x280\" class=\"img-fluid\" src=\"https://images.unsplash.com/photo-1532715088550-62f09305f765?ixlib=rb-0.3.5&amp;q=80&amp;fm=jpg&amp;crop=entropy&amp;cs=tinysrgb&amp;w=1080&amp;fit=max&amp;ixid=eyJhcHBfaWQiOjMyMDc0fQ&amp;s=ebadb044b374504ef8e81bdec4d0e840\"/>\n",
      "              <div class=\"card-body\">\n",
      "               <p class=\"card-text\">\n",
      "                With supporting text below as a natural lead-in to additional content.\n",
      "               </p>\n",
      "              </div>\n",
      "             </div>\n",
      "            </div>\n",
      "            <div class=\"col-md-4 mb-3\">\n",
      "             <div class=\"card\">\n",
      "              <img alt=\"100%x280\" class=\"img-fluid\" src=\"https://images.unsplash.com/photo-1506197603052-3cc9c3a201bd?ixlib=rb-0.3.5&amp;q=80&amp;fm=jpg&amp;crop=entropy&amp;cs=tinysrgb&amp;w=1080&amp;fit=max&amp;ixid=eyJhcHBfaWQiOjMyMDc0fQ&amp;s=0754ab085804ae8a3b562548e6b4aa2e\"/>\n",
      "              <div class=\"card-body\">\n",
      "               <p class=\"card-text\">\n",
      "                With supporting text below as a natural lead-in to additional content.\n",
      "               </p>\n",
      "              </div>\n",
      "             </div>\n",
      "            </div>\n",
      "           </div>\n",
      "          </div>\n",
      "          <div class=\"carousel-item\">\n",
      "           <div class=\"row\">\n",
      "            <div class=\"col-md-4 mb-3\">\n",
      "             <div class=\"card\">\n",
      "              <img alt=\"100%x280\" class=\"img-fluid\" src=\"https://images.unsplash.com/photo-1507525428034-b723cf961d3e?ixlib=rb-0.3.5&amp;q=80&amp;fm=jpg&amp;crop=entropy&amp;cs=tinysrgb&amp;w=1080&amp;fit=max&amp;ixid=eyJhcHBfaWQiOjMyMDc0fQ&amp;s=ee8417f0ea2a50d53a12665820b54e23\"/>\n",
      "              <div class=\"card-body\">\n",
      "               <p class=\"card-text\">\n",
      "                With supporting text below as a natural lead-in to additional content.\n",
      "               </p>\n",
      "              </div>\n",
      "             </div>\n",
      "            </div>\n",
      "            <div class=\"col-md-4 mb-3\">\n",
      "             <div class=\"card\">\n",
      "              <img alt=\"100%x280\" class=\"img-fluid\" src=\"https://images.unsplash.com/photo-1532777946373-b6783242f211?ixlib=rb-0.3.5&amp;q=80&amp;fm=jpg&amp;crop=entropy&amp;cs=tinysrgb&amp;w=1080&amp;fit=max&amp;ixid=eyJhcHBfaWQiOjMyMDc0fQ&amp;s=8ac55cf3a68785643998730839663129\"/>\n",
      "              <div class=\"card-body\">\n",
      "               <p class=\"card-text\">\n",
      "                With supporting text below as a natural lead-in to additional content.\n",
      "               </p>\n",
      "              </div>\n",
      "             </div>\n",
      "            </div>\n",
      "            <div class=\"col-md-4 mb-3\">\n",
      "             <div class=\"card\">\n",
      "              <img alt=\"100%x280\" class=\"img-fluid\" src=\"https://images.unsplash.com/photo-1532763303805-529d595877c5?ixlib=rb-0.3.5&amp;q=80&amp;fm=jpg&amp;crop=entropy&amp;cs=tinysrgb&amp;w=1080&amp;fit=max&amp;ixid=eyJhcHBfaWQiOjMyMDc0fQ&amp;s=5ee4fd5d19b40f93eadb21871757eda6\"/>\n",
      "              <div class=\"card-body\">\n",
      "               <p class=\"card-text\">\n",
      "                With supporting text below as a natural lead-in to additional content.\n",
      "               </p>\n",
      "              </div>\n",
      "             </div>\n",
      "            </div>\n",
      "           </div>\n",
      "          </div>\n",
      "         </div>\n",
      "        </div>\n",
      "       </div>\n",
      "      </div>\n",
      "     </div>\n",
      "    </section>\n",
      "    <section class=\"footer\">\n",
      "     <div class=\"container\">\n",
      "      <div class=\"col-md-12\">\n",
      "       <div class=\"row\">\n",
      "        <div class=\"col-md-3\">\n",
      "         <h5>\n",
      "          The Red Planet\n",
      "         </h5>\n",
      "         <ul>\n",
      "          <li>\n",
      "           Dashboard\n",
      "          </li>\n",
      "          <li>\n",
      "           Science Goals\n",
      "          </li>\n",
      "          <li>\n",
      "           The Planet\n",
      "          </li>\n",
      "         </ul>\n",
      "        </div>\n",
      "        <div class=\"col-md-3\">\n",
      "         <h5>\n",
      "          The Program\n",
      "         </h5>\n",
      "         <ul>\n",
      "          <li>\n",
      "           Mission Statement\n",
      "          </li>\n",
      "          <li>\n",
      "           About the Program\n",
      "          </li>\n",
      "          <li>\n",
      "           Organization Why Mars?\n",
      "          </li>\n",
      "         </ul>\n",
      "        </div>\n",
      "        <div class=\"col-md-3\">\n",
      "         <h5>\n",
      "          Multimedia\n",
      "         </h5>\n",
      "         <ul>\n",
      "          <li>\n",
      "           Images\n",
      "          </li>\n",
      "          <li>\n",
      "           Videos\n",
      "          </li>\n",
      "          <li>\n",
      "           More Resources\n",
      "          </li>\n",
      "         </ul>\n",
      "        </div>\n",
      "        <div class=\"col-md-3\">\n",
      "         <h5>\n",
      "          Missions\n",
      "         </h5>\n",
      "         <ul>\n",
      "          <li>\n",
      "           Past\n",
      "          </li>\n",
      "          <li>\n",
      "           Present\n",
      "          </li>\n",
      "          <li>\n",
      "           Future\n",
      "          </li>\n",
      "         </ul>\n",
      "        </div>\n",
      "       </div>\n",
      "      </div>\n",
      "     </div>\n",
      "    </section>\n",
      "    <script src=\"https://code.jquery.com/jquery-1.12.4.min.js\" type=\"text/javascript\">\n",
      "    </script>\n",
      "    <script src=\"https://cdn.jsdelivr.net/npm/@popperjs/core@2.5.4/dist/umd/popper.min.js\">\n",
      "    </script>\n",
      "    <script src=\"https://cdn.jsdelivr.net/npm/bootstrap@5.0.0-beta1/dist/js/bootstrap.min.js\">\n",
      "    </script>\n",
      "    <script src=\"js/app.js\">\n",
      "    </script>\n",
      "   </div>\n",
      "  </div>\n",
      " </body>\n",
      "</html>\n"
     ]
    }
   ],
   "source": [
    "print(soup.prettify())"
   ]
  },
  {
   "cell_type": "code",
   "execution_count": 189,
   "metadata": {},
   "outputs": [
    {
     "name": "stdout",
     "output_type": "stream",
     "text": [
      "News - Mars Exploration Program\n"
     ]
    }
   ],
   "source": [
    "title = soup.title.text\n",
    "print(title)"
   ]
  },
  {
   "cell_type": "code",
   "execution_count": 190,
   "metadata": {},
   "outputs": [
    {
     "name": "stderr",
     "output_type": "stream",
     "text": [
      "\n",
      "\n",
      "====== WebDriver manager ======\n",
      "Current google-chrome version is 83.0.4103\n",
      "Get LATEST driver version for 83.0.4103\n",
      "Driver [/Users/jennamurphy/.wdm/drivers/chromedriver/mac64/83.0.4103.39/chromedriver] found in cache\n"
     ]
    }
   ],
   "source": [
    "#set up splinter\n",
    "executable_path = {'executable_path': ChromeDriverManager().install()}\n",
    "browser = Browser('chrome', **executable_path, headless=False)"
   ]
  },
  {
   "cell_type": "code",
   "execution_count": null,
   "metadata": {},
   "outputs": [],
   "source": []
  },
  {
   "cell_type": "code",
   "execution_count": 191,
   "metadata": {},
   "outputs": [],
   "source": [
    "url_red_planet = 'https://redplanetscience.com/'\n",
    "browser.visit(url_red_planet)"
   ]
  },
  {
   "cell_type": "code",
   "execution_count": 192,
   "metadata": {},
   "outputs": [
    {
     "name": "stdout",
     "output_type": "stream",
     "text": [
      "NASA's Curiosity Rover Finds an Ancient Oasis on Mars\n",
      "8 Martian Postcards to Celebrate Curiosity's Landing Anniversary\n",
      "Mars InSight Lander to Push on Top of the 'Mole'\n",
      "A Year of Surprising Science From NASA's InSight Mars Mission\n",
      "NASA Engineers Checking InSight's Weather Sensors\n",
      "The MarCO Mission Comes to an End\n",
      "NASA's Perseverance Rover Will Peer Beneath Mars' Surface \n",
      "Meet the People Behind NASA's Perseverance Rover\n",
      "NASA's Mars Helicopter Attached to Mars 2020 Rover \n",
      "Three New Views of Mars' Moon Phobos\n",
      "What's Mars Solar Conjunction, and Why Does It Matter?\n",
      "How NASA's Mars Helicopter Will Reach the Red Planet's Surface\n",
      "NASA's Treasure Map for Water Ice on Mars\n",
      "Follow NASA's Perseverance Rover in Real Time on Its Way to Mars\n",
      "NASA's Mars 2020 Heads Into the Test Chamber\n"
     ]
    }
   ],
   "source": [
    "html = browser.html\n",
    "soup = BeautifulSoup(html, 'html.parser')\n",
    "\n",
    "titles = soup.find_all('div', class_='content_title')\n",
    "\n",
    "for title in titles:\n",
    "    print(title.text)\n",
    "# categories = sidebar.find_all('li')\n",
    "\n",
    "# category_list = []\n",
    "# url_list = []\n",
    "# book_url_list = []\n",
    "# for category in categories:\n",
    "#     title = category.text.strip()\n",
    "#     category_list.append(title)\n",
    "#     book_url = category.find('a')['href']\n",
    "#     url_list.append(book_url)\n",
    "\n",
    "# book_url_list = ['http://books.toscrape.com/' + url for url in url_list]\n",
    "\n",
    "# titles_and_urls = zip(category_list, book_url_list)\n",
    "\n",
    "# try:\n",
    "#     for title_url in titles_and_urls:\n",
    "#         browser.links.find_by_partial_text('next').click()\n",
    "# except ElementDoesNotExist:\n",
    "#     print(\"Scraping Complete\")"
   ]
  },
  {
   "cell_type": "code",
   "execution_count": 193,
   "metadata": {},
   "outputs": [
    {
     "name": "stdout",
     "output_type": "stream",
     "text": [
      "New evidence suggests salty, shallow ponds once dotted a Martian crater — a sign of the planet's drying climate.\n",
      "The NASA rover touched down eight years ago, on Aug. 5, 2012, and will soon be joined by a second rover, Perseverance.\n",
      "Engineers have a plan for pushing down on the heat probe, which has been stuck at the Martian surface for a year.\n",
      "A batch of new papers summarizes the lander's findings above and below the surface of the Red Planet.\n",
      "An electronics issue is suspected to be preventing the sensors from sharing their data about Mars weather with the spacecraft.\n",
      "The pair of briefcase-sized satellites made history when they sailed past Mars in 2019.\n",
      "The agency's newest rover will use the first ground-penetrating radar instrument on the Martian surface to help search for signs of past microbial life. \n",
      "These are the scientists and engineers who built NASA's next Mars rover and who will guide it to a safe landing in Jezero Crater. \n",
      "The helicopter will be first aircraft to perform flight tests on another planet.\n",
      "Taken with the infrared camera aboard NASA's Odyssey orbiter, they reveal temperature variations on the small moon as it drifts into and out of Mars’ shadow.\n",
      "NASA spacecraft at Mars are going to be on their own for a few weeks when the Sun comes between Mars and Earth, interrupting communications.\n",
      "The small craft will seek to prove that powered, controlled flight is possible on another planet. But just getting it onto the surface of Mars will take a whole lot of ingenuity.\n",
      "A new study identifies frozen water just below the Martian surface, where astronauts could easily dig it up.\n",
      "A crisply rendered web application can show you where the agency's Mars 2020 mission is right now as it makes its way to the Red Planet for a Feb. 18, 2021, landing.\n",
      "In this time-lapse video taken at JPL, engineers move the Mars 2020 rover into a large vacuum chamber for testing in Mars-like environmental conditions.\n"
     ]
    }
   ],
   "source": [
    "article_teaser = soup.find_all('div', class_='article_teaser_body')\n",
    "\n",
    "for article in article_teaser:\n",
    "    print(article.text)"
   ]
  },
  {
   "cell_type": "code",
   "execution_count": 194,
   "metadata": {},
   "outputs": [],
   "source": [
    "url_space_images = 'https://spaceimages-mars.com/'\n",
    "browser.visit(url_space_images)"
   ]
  },
  {
   "cell_type": "code",
   "execution_count": 195,
   "metadata": {},
   "outputs": [],
   "source": [
    "# Use splinter to navigate the site and find the image url for the current Featured Mars Image and assign the url string to a variable called featured_image_url.\n",
    "# featured_image_url\n",
    "\n",
    "html = browser.html\n",
    "# Parse HTML with Beautiful Soup\n",
    "soup = BeautifulSoup(html, 'html.parser')\n",
    "# Retrieve all elements that contain book information\n",
    "featured_image = soup.find_all('img', class_='headerimage fade-in')\n",
    "\n",
    "featured_image_src = \"\";\n",
    "# Make sure to save a complete url string for this image.\n",
    "for image in featured_image:\n",
    "    featured_image_src = image['src']\n",
    "\n",
    "# # Example:\n",
    "# featured_image_url = featured_image['src'].text"
   ]
  },
  {
   "cell_type": "code",
   "execution_count": 196,
   "metadata": {},
   "outputs": [
    {
     "name": "stdout",
     "output_type": "stream",
     "text": [
      "image/featured/mars2.jpg\n"
     ]
    }
   ],
   "source": [
    "print(featured_image_src)"
   ]
  },
  {
   "cell_type": "code",
   "execution_count": 197,
   "metadata": {},
   "outputs": [],
   "source": [
    "featured_image_url = 'https://spaceimages-mars.com/' + featured_image_src"
   ]
  },
  {
   "cell_type": "code",
   "execution_count": 198,
   "metadata": {},
   "outputs": [
    {
     "name": "stdout",
     "output_type": "stream",
     "text": [
      "https://spaceimages-mars.com/image/featured/mars2.jpg\n"
     ]
    }
   ],
   "source": [
    "print(featured_image_url)"
   ]
  },
  {
   "cell_type": "code",
   "execution_count": 199,
   "metadata": {},
   "outputs": [],
   "source": [
    "url_facts = 'https://galaxyfacts-mars.com/'"
   ]
  },
  {
   "cell_type": "code",
   "execution_count": 200,
   "metadata": {},
   "outputs": [
    {
     "data": {
      "text/plain": [
       "[                         0                1                2\n",
       " 0  Mars - Earth Comparison             Mars            Earth\n",
       " 1                Diameter:         6,779 km        12,742 km\n",
       " 2                    Mass:  6.39 × 10^23 kg  5.97 × 10^24 kg\n",
       " 3                   Moons:                2                1\n",
       " 4       Distance from Sun:   227,943,824 km   149,598,262 km\n",
       " 5          Length of Year:   687 Earth days      365.24 days\n",
       " 6             Temperature:     -87 to -5 °C      -88 to 58°C,\n",
       "                       0                              1\n",
       " 0  Equatorial Diameter:                       6,792 km\n",
       " 1       Polar Diameter:                       6,752 km\n",
       " 2                 Mass:  6.39 × 10^23 kg (0.11 Earths)\n",
       " 3                Moons:          2 ( Phobos & Deimos )\n",
       " 4       Orbit Distance:       227,943,824 km (1.38 AU)\n",
       " 5         Orbit Period:           687 days (1.9 years)\n",
       " 6  Surface Temperature:                   -87 to -5 °C\n",
       " 7         First Record:              2nd millennium BC\n",
       " 8          Recorded By:           Egyptian astronomers]"
      ]
     },
     "execution_count": 200,
     "metadata": {},
     "output_type": "execute_result"
    }
   ],
   "source": [
    "tables = pd.read_html(url_facts)\n",
    "tables"
   ]
  },
  {
   "cell_type": "code",
   "execution_count": 201,
   "metadata": {},
   "outputs": [
    {
     "data": {
      "text/html": [
       "<div>\n",
       "<style scoped>\n",
       "    .dataframe tbody tr th:only-of-type {\n",
       "        vertical-align: middle;\n",
       "    }\n",
       "\n",
       "    .dataframe tbody tr th {\n",
       "        vertical-align: top;\n",
       "    }\n",
       "\n",
       "    .dataframe thead th {\n",
       "        text-align: right;\n",
       "    }\n",
       "</style>\n",
       "<table border=\"1\" class=\"dataframe\">\n",
       "  <thead>\n",
       "    <tr style=\"text-align: right;\">\n",
       "      <th></th>\n",
       "      <th>0</th>\n",
       "      <th>1</th>\n",
       "      <th>2</th>\n",
       "    </tr>\n",
       "  </thead>\n",
       "  <tbody>\n",
       "    <tr>\n",
       "      <th>0</th>\n",
       "      <td>Mars - Earth Comparison</td>\n",
       "      <td>Mars</td>\n",
       "      <td>Earth</td>\n",
       "    </tr>\n",
       "    <tr>\n",
       "      <th>1</th>\n",
       "      <td>Diameter:</td>\n",
       "      <td>6,779 km</td>\n",
       "      <td>12,742 km</td>\n",
       "    </tr>\n",
       "    <tr>\n",
       "      <th>2</th>\n",
       "      <td>Mass:</td>\n",
       "      <td>6.39 × 10^23 kg</td>\n",
       "      <td>5.97 × 10^24 kg</td>\n",
       "    </tr>\n",
       "    <tr>\n",
       "      <th>3</th>\n",
       "      <td>Moons:</td>\n",
       "      <td>2</td>\n",
       "      <td>1</td>\n",
       "    </tr>\n",
       "    <tr>\n",
       "      <th>4</th>\n",
       "      <td>Distance from Sun:</td>\n",
       "      <td>227,943,824 km</td>\n",
       "      <td>149,598,262 km</td>\n",
       "    </tr>\n",
       "  </tbody>\n",
       "</table>\n",
       "</div>"
      ],
      "text/plain": [
       "                         0                1                2\n",
       "0  Mars - Earth Comparison             Mars            Earth\n",
       "1                Diameter:         6,779 km        12,742 km\n",
       "2                    Mass:  6.39 × 10^23 kg  5.97 × 10^24 kg\n",
       "3                   Moons:                2                1\n",
       "4       Distance from Sun:   227,943,824 km   149,598,262 km"
      ]
     },
     "execution_count": 201,
     "metadata": {},
     "output_type": "execute_result"
    }
   ],
   "source": [
    "df_mars_facts = tables[0]\n",
    "df_mars_facts.head()"
   ]
  },
  {
   "cell_type": "code",
   "execution_count": 202,
   "metadata": {},
   "outputs": [
    {
     "data": {
      "text/plain": [
       "'<table border=\"1\" class=\"dataframe\">\\n  <thead>\\n    <tr style=\"text-align: right;\">\\n      <th></th>\\n      <th>0</th>\\n      <th>1</th>\\n      <th>2</th>\\n    </tr>\\n  </thead>\\n  <tbody>\\n    <tr>\\n      <th>0</th>\\n      <td>Mars - Earth Comparison</td>\\n      <td>Mars</td>\\n      <td>Earth</td>\\n    </tr>\\n    <tr>\\n      <th>1</th>\\n      <td>Diameter:</td>\\n      <td>6,779 km</td>\\n      <td>12,742 km</td>\\n    </tr>\\n    <tr>\\n      <th>2</th>\\n      <td>Mass:</td>\\n      <td>6.39 × 10^23 kg</td>\\n      <td>5.97 × 10^24 kg</td>\\n    </tr>\\n    <tr>\\n      <th>3</th>\\n      <td>Moons:</td>\\n      <td>2</td>\\n      <td>1</td>\\n    </tr>\\n    <tr>\\n      <th>4</th>\\n      <td>Distance from Sun:</td>\\n      <td>227,943,824 km</td>\\n      <td>149,598,262 km</td>\\n    </tr>\\n    <tr>\\n      <th>5</th>\\n      <td>Length of Year:</td>\\n      <td>687 Earth days</td>\\n      <td>365.24 days</td>\\n    </tr>\\n    <tr>\\n      <th>6</th>\\n      <td>Temperature:</td>\\n      <td>-87 to -5 °C</td>\\n      <td>-88 to 58°C</td>\\n    </tr>\\n  </tbody>\\n</table>'"
      ]
     },
     "execution_count": 202,
     "metadata": {},
     "output_type": "execute_result"
    }
   ],
   "source": [
    "html_table = df_mars_facts.to_html()\n",
    "html_table"
   ]
  },
  {
   "cell_type": "code",
   "execution_count": 203,
   "metadata": {},
   "outputs": [
    {
     "data": {
      "text/plain": [
       "'<table border=\"1\" class=\"dataframe\">  <thead>    <tr style=\"text-align: right;\">      <th></th>      <th>0</th>      <th>1</th>      <th>2</th>    </tr>  </thead>  <tbody>    <tr>      <th>0</th>      <td>Mars - Earth Comparison</td>      <td>Mars</td>      <td>Earth</td>    </tr>    <tr>      <th>1</th>      <td>Diameter:</td>      <td>6,779 km</td>      <td>12,742 km</td>    </tr>    <tr>      <th>2</th>      <td>Mass:</td>      <td>6.39 × 10^23 kg</td>      <td>5.97 × 10^24 kg</td>    </tr>    <tr>      <th>3</th>      <td>Moons:</td>      <td>2</td>      <td>1</td>    </tr>    <tr>      <th>4</th>      <td>Distance from Sun:</td>      <td>227,943,824 km</td>      <td>149,598,262 km</td>    </tr>    <tr>      <th>5</th>      <td>Length of Year:</td>      <td>687 Earth days</td>      <td>365.24 days</td>    </tr>    <tr>      <th>6</th>      <td>Temperature:</td>      <td>-87 to -5 °C</td>      <td>-88 to 58°C</td>    </tr>  </tbody></table>'"
      ]
     },
     "execution_count": 203,
     "metadata": {},
     "output_type": "execute_result"
    }
   ],
   "source": [
    "html_table_clean = html_table.replace('\\n', '')\n",
    "html_table_clean"
   ]
  },
  {
   "cell_type": "code",
   "execution_count": 204,
   "metadata": {},
   "outputs": [],
   "source": [
    "# html_table_clean.to_html('table.html')"
   ]
  },
  {
   "cell_type": "code",
   "execution_count": 205,
   "metadata": {},
   "outputs": [],
   "source": [
    "# # OSX Users can run this to open the file in a browser, \n",
    "# # or you can manually find the file and open it in the browser\n",
    "# !open table.html"
   ]
  },
  {
   "cell_type": "code",
   "execution_count": 206,
   "metadata": {},
   "outputs": [],
   "source": [
    "url_mars_hem = 'https://marshemispheres.com/'\n",
    "browser.visit(url_mars_hem)"
   ]
  },
  {
   "cell_type": "code",
   "execution_count": 207,
   "metadata": {},
   "outputs": [],
   "source": [
    "html_mars = browser.html\n",
    "# Parse HTML with Beautiful Soup\n",
    "soup = BeautifulSoup(html_mars, 'html.parser')\n",
    "# Retrieve all elements that contain book information\n",
    "featured_link = soup.find_all('a', class_='itemLink product-item')\n",
    "\n",
    "# featured_link['href']\n",
    "\n",
    "# # paragraphs = soup.find_all('p')\n",
    "# for link in paragraphs:\n",
    "#     print(paragraph.text)"
   ]
  },
  {
   "cell_type": "code",
   "execution_count": 208,
   "metadata": {
    "scrolled": true
   },
   "outputs": [
    {
     "name": "stdout",
     "output_type": "stream",
     "text": [
      "[<a class=\"itemLink product-item\" href=\"cerberus.html\"><img alt=\"Cerberus Hemisphere Enhanced thumbnail\" class=\"thumb\" src=\"images/39d3266553462198bd2fbc4d18fbed17_cerberus_enhanced.tif_thumb.png\"/></a>, <a class=\"itemLink product-item\" href=\"cerberus.html\">\n",
      "<h3>Cerberus Hemisphere Enhanced</h3>\n",
      "</a>, <a class=\"itemLink product-item\" href=\"schiaparelli.html\"><img alt=\"Schiaparelli Hemisphere Enhanced thumbnail\" class=\"thumb\" src=\"images/08eac6e22c07fb1fe72223a79252de20_schiaparelli_enhanced.tif_thumb.png\"/></a>, <a class=\"itemLink product-item\" href=\"schiaparelli.html\">\n",
      "<h3>Schiaparelli Hemisphere Enhanced</h3>\n",
      "</a>, <a class=\"itemLink product-item\" href=\"syrtis.html\"><img alt=\"Syrtis Major Hemisphere Enhanced thumbnail\" class=\"thumb\" src=\"images/55a0a1e2796313fdeafb17c35925e8ac_syrtis_major_enhanced.tif_thumb.png\"/></a>, <a class=\"itemLink product-item\" href=\"syrtis.html\">\n",
      "<h3>Syrtis Major Hemisphere Enhanced</h3>\n",
      "</a>, <a class=\"itemLink product-item\" href=\"valles.html\"><img alt=\"Valles Marineris Hemisphere Enhanced thumbnail\" class=\"thumb\" src=\"images/4e59980c1c57f89c680c0e1ccabbeff1_valles_marineris_enhanced.tif_thumb.png\"/></a>, <a class=\"itemLink product-item\" href=\"valles.html\">\n",
      "<h3>Valles Marineris Hemisphere Enhanced</h3>\n",
      "</a>, <a class=\"itemLink product-item\" href=\"#\" onclick=\"showMain()\">\n",
      "<h3>Back</h3>\n",
      "</a>]\n"
     ]
    }
   ],
   "source": [
    "print(featured_link)"
   ]
  },
  {
   "cell_type": "code",
   "execution_count": 218,
   "metadata": {},
   "outputs": [],
   "source": [
    "href_link = []\n",
    "href_list = []\n",
    "title = []\n",
    "title_list = []\n",
    "link_click_href = []\n",
    "\n",
    "for link in featured_link:\n",
    "#     if link not in link_click_href:\n",
    "        href_link = link['href']\n",
    "        link_click_href.append(href_link)\n",
    "        for i in link_click_href:\n",
    "            if i not in href_list and i != '#':\n",
    "                href_list.append(i)\n",
    "\n",
    "            "
   ]
  },
  {
   "cell_type": "code",
   "execution_count": 219,
   "metadata": {},
   "outputs": [
    {
     "name": "stdout",
     "output_type": "stream",
     "text": [
      "['cerberus.html', 'schiaparelli.html', 'syrtis.html', 'valles.html']\n"
     ]
    }
   ],
   "source": [
    "print(href_list)\n"
   ]
  },
  {
   "cell_type": "code",
   "execution_count": 211,
   "metadata": {},
   "outputs": [],
   "source": [
    "hem_url_list = ['https://marshemispheres.com/' + url for url in href_list]\n",
    "\n",
    "# titles_and_urls = zip(category_list, book_url_list)\n",
    "\n",
    "# try:\n",
    "#     for url in hem_url_list:\n",
    "#         browser.links.find_by_partial_text('next').click()\n",
    "# except ElementDoesNotExist:\n",
    "#     print(\"Scraping Complete\")\n"
   ]
  },
  {
   "cell_type": "code",
   "execution_count": 212,
   "metadata": {},
   "outputs": [
    {
     "name": "stdout",
     "output_type": "stream",
     "text": [
      "['https://marshemispheres.com/cerberus.html', 'https://marshemispheres.com/schiaparelli.html', 'https://marshemispheres.com/syrtis.html', 'https://marshemispheres.com/valles.html']\n"
     ]
    }
   ],
   "source": [
    "print(hem_url_list)"
   ]
  },
  {
   "cell_type": "code",
   "execution_count": 213,
   "metadata": {},
   "outputs": [],
   "source": [
    "img_url_link = []\n",
    "title_list = []\n",
    "\n",
    "\n",
    "for link in hem_url_list:\n",
    "#     url_new = link\n",
    "    temp_title_list = []\n",
    "    browser.visit(link)\n",
    "    html_link_click = browser.html\n",
    "    # Parse HTML with Beautiful Soup\n",
    "    soup = BeautifulSoup(html_link_click, 'html.parser')\n",
    "    # Retrieve all elements that contain book information\n",
    "    featured_title = soup.find('h2').text\n",
    "    title_list.append(featured_title)\n",
    "    featured_links = soup.find_all('a')\n",
    "    \n",
    "\n",
    "    for link in featured_links:\n",
    "\n",
    "            if (link.text == 'Sample'):\n",
    "\n",
    "                img_url = 'https://marshemispheres.com/' + link['href']\n",
    "                img_url_link.append(img_url)        "
   ]
  },
  {
   "cell_type": "code",
   "execution_count": 214,
   "metadata": {},
   "outputs": [
    {
     "name": "stdout",
     "output_type": "stream",
     "text": [
      "['https://marshemispheres.com/images/full.jpg', 'https://marshemispheres.com/images/schiaparelli_enhanced-full.jpg', 'https://marshemispheres.com/images/syrtis_major_enhanced-full.jpg', 'https://marshemispheres.com/images/valles_marineris_enhanced-full.jpg']\n"
     ]
    }
   ],
   "source": [
    "print(img_url_link)"
   ]
  },
  {
   "cell_type": "code",
   "execution_count": 215,
   "metadata": {},
   "outputs": [
    {
     "name": "stdout",
     "output_type": "stream",
     "text": [
      "[<a href=\"#\" style=\"float:right;margin-top:10px;\" target=\"_blank\">\n",
      "<img alt=\"USGS: Science for a Changing World\" class=\"logo\" height=\"60\" src=\"images/usgs_logo_main_2x.png\"/>\n",
      "</a>, <a href=\"#\" style=\"float:right;margin-top:5px;margin-right:20px;\" target=\"_blank\">\n",
      "<img alt=\"NASA\" class=\"logo\" height=\"65\" src=\"images/nasa-logo-web-med.png\"/>\n",
      "</a>, <a href=\"https://astrogeology.usgs.gov/search\" style=\"float:right;text-decoration:none;\">\n",
      "<img alt=\"Astropedia\" src=\"images/astropedia-logo-main.png\" style=\"width:200px;border:none;float:right;\"/>\n",
      "<div style=\"clear:both;font-size:.8em;float:right;color:#888;\">Lunar and Planetary Cartographic\n",
      "                        Catalog</div>\n",
      "</a>, <a href=\"images/valles_marineris_enhanced-full.jpg\" target=\"_blank\">Sample</a>, <a href=\"images/valles_marineris_enhanced.tif\" target=\"_blank\">Original</a>, <a class=\"open-toggle\" href=\"#open\" id=\"wide-image-toggle\">Open</a>, <a href=\"images/valles_marineris_enhanced.tif\">valles_marineris_enhanced.tif<span class=\"tooltip word-tif\" title=\"\"></span></a>, <a class=\"itemLink product-item\" href=\"index.html\">\n",
      "<h3>Back</h3>\n",
      "</a>, <a href=\"#\">Search</a>, <a href=\"#\">About</a>, <a href=\"#\">Contact</a>, <a href=\"#\">GUSS Science Center</a>]\n"
     ]
    }
   ],
   "source": [
    "print(featured_links)"
   ]
  },
  {
   "cell_type": "code",
   "execution_count": 216,
   "metadata": {},
   "outputs": [
    {
     "name": "stdout",
     "output_type": "stream",
     "text": [
      "['Cerberus Hemisphere Enhanced', 'Schiaparelli Hemisphere Enhanced', 'Syrtis Major Hemisphere Enhanced', 'Valles Marineris Hemisphere Enhanced']\n"
     ]
    }
   ],
   "source": [
    "print(title_list)"
   ]
  },
  {
   "cell_type": "code",
   "execution_count": 217,
   "metadata": {},
   "outputs": [
    {
     "name": "stdout",
     "output_type": "stream",
     "text": [
      "[{'title': 'Cerberus Hemisphere Enhanced', 'img_url': 'https://marshemispheres.com/images/full.jpg'}, {'title': 'Schiaparelli Hemisphere Enhanced', 'img_url': 'https://marshemispheres.com/images/schiaparelli_enhanced-full.jpg'}, {'title': 'Syrtis Major Hemisphere Enhanced', 'img_url': 'https://marshemispheres.com/images/syrtis_major_enhanced-full.jpg'}, {'title': 'Valles Marineris Hemisphere Enhanced', 'img_url': 'https://marshemispheres.com/images/valles_marineris_enhanced-full.jpg'}]\n"
     ]
    }
   ],
   "source": [
    "# dicts = {}\n",
    "hemisphere_image_urls = []\n",
    "# keys = range(4)\n",
    "# for i in keys:\n",
    "for x, j in zip(title_list, img_url_link):\n",
    "        dict = {\"title\" : x, \"img_url\": j}\n",
    "        hemisphere_image_urls.append(dict)\n",
    "\n",
    "print(hemisphere_image_urls)     "
   ]
  },
  {
   "cell_type": "code",
   "execution_count": null,
   "metadata": {},
   "outputs": [],
   "source": []
  },
  {
   "cell_type": "code",
   "execution_count": null,
   "metadata": {},
   "outputs": [],
   "source": []
  }
 ],
 "metadata": {
  "kernel_info": {
   "name": "python3"
  },
  "kernelspec": {
   "display_name": "Python 3",
   "language": "python",
   "name": "python3"
  },
  "language_info": {
   "codemirror_mode": {
    "name": "ipython",
    "version": 3
   },
   "file_extension": ".py",
   "mimetype": "text/x-python",
   "name": "python",
   "nbconvert_exporter": "python",
   "pygments_lexer": "ipython3",
   "version": "3.8.5"
  },
  "nteract": {
   "version": "0.12.3"
  },
  "varInspector": {
   "cols": {
    "lenName": 16,
    "lenType": 16,
    "lenVar": 40
   },
   "kernels_config": {
    "python": {
     "delete_cmd_postfix": "",
     "delete_cmd_prefix": "del ",
     "library": "var_list.py",
     "varRefreshCmd": "print(var_dic_list())"
    },
    "r": {
     "delete_cmd_postfix": ") ",
     "delete_cmd_prefix": "rm(",
     "library": "var_list.r",
     "varRefreshCmd": "cat(var_dic_list()) "
    }
   },
   "types_to_exclude": [
    "module",
    "function",
    "builtin_function_or_method",
    "instance",
    "_Feature"
   ],
   "window_display": false
  }
 },
 "nbformat": 4,
 "nbformat_minor": 2
}
